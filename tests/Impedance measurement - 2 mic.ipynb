{
 "cells": [
  {
   "cell_type": "code",
   "execution_count": 5,
   "metadata": {},
   "outputs": [
    {
     "data": {
      "text/plain": [
       "<module 'ImpedanceSynthesiser' from '../ImpedanceSynthesiser.pyc'>"
      ]
     },
     "execution_count": 5,
     "metadata": {},
     "output_type": "execute_result"
    }
   ],
   "source": [
    "import sys\n",
    "sys.path.append('..')\n",
    "import ImpedanceSynthesiser as imps\n",
    "import numpy as np\n",
    "import matplotlib.pyplot as pl\n",
    "%matplotlib notebook\n",
    "\n",
    "reload(imps)"
   ]
  },
  {
   "cell_type": "markdown",
   "metadata": {},
   "source": [
    "# Sound source\n",
    "Define a perfect flow source, delivering white noise"
   ]
  },
  {
   "cell_type": "code",
   "execution_count": 6,
   "metadata": {
    "collapsed": true
   },
   "outputs": [],
   "source": [
    "def flow_source(f):\n",
    "    p = 0.\n",
    "    u = np.random.random() + 1j*np.random*random()*2*np.pi\n",
    "    return p, u"
   ]
  },
  {
   "cell_type": "code",
   "execution_count": 7,
   "metadata": {
    "collapsed": true
   },
   "outputs": [],
   "source": [
    "world = imps.AcousticWorld()\n",
    "\n",
    "l0 = 100.0\n",
    "\n",
    "rad0 = .0075\n",
    "\n",
    "ducts = []\n",
    "loss=True\n",
    "\n",
    "duct = imps.Duct(world=world,losses=loss)\n",
    "duct.set_termination(imps.PerfectOpenEnd())\n",
    "duct.append_element(imps.StraightDuct(length=l0,radius=rad0))\n",
    "ducts.append(duct)\n",
    "\n",
    "duct = imps.Duct(world=world,losses=loss)\n",
    "duct.set_termination(imps.PerfectClosedEnd())\n",
    "duct.append_element(imps.StraightDuct(length=l0,radius=rad0))\n",
    "ducts.append(duct)\n",
    "\n",
    "duct = imps.Duct(world=world,losses=loss)\n",
    "duct.set_termination(imps.PerfectAnechoicEnd())\n",
    "duct.append_element(imps.StraightDuct(length=l0,radius=rad0))\n",
    "ducts.append(duct)\n"
   ]
  },
  {
   "cell_type": "code",
   "execution_count": null,
   "metadata": {
    "collapsed": true
   },
   "outputs": [],
   "source": []
  },
  {
   "cell_type": "markdown",
   "metadata": {},
   "source": [
    "## Calculate sound pressure at microphone at position $x$"
   ]
  },
  {
   "cell_type": "code",
   "execution_count": 4,
   "metadata": {},
   "outputs": [
    {
     "ename": "SyntaxError",
     "evalue": "invalid syntax (<ipython-input-4-61946dde2fb9>, line 9)",
     "output_type": "error",
     "traceback": [
      "\u001b[0;36m  File \u001b[0;32m\"<ipython-input-4-61946dde2fb9>\"\u001b[0;36m, line \u001b[0;32m9\u001b[0m\n\u001b[0;31m    p_mic.append(duct.\u001b[0m\n\u001b[0m                      ^\u001b[0m\n\u001b[0;31mSyntaxError\u001b[0m\u001b[0;31m:\u001b[0m invalid syntax\n"
     ]
    }
   ],
   "source": [
    "fvec = np.linspace(10,500,1000)\n",
    "\n",
    "noise_level=0.1\n",
    "\n",
    "p_mic=[]\n",
    "\n",
    "for f in fvec:\n",
    "    \n",
    "    p_mic.append(duct.\n",
    "\n"
   ]
  },
  {
   "cell_type": "code",
   "execution_count": 8,
   "metadata": {
    "scrolled": false
   },
   "outputs": [
    {
     "ename": "NameError",
     "evalue": "name 'fvec' is not defined",
     "output_type": "error",
     "traceback": [
      "\u001b[0;31m\u001b[0m",
      "\u001b[0;31mNameError\u001b[0mTraceback (most recent call last)",
      "\u001b[0;32m<ipython-input-8-7e40935f0a98>\u001b[0m in \u001b[0;36m<module>\u001b[0;34m()\u001b[0m\n\u001b[1;32m      5\u001b[0m \u001b[0;32mfor\u001b[0m \u001b[0mduct\u001b[0m \u001b[0;32min\u001b[0m \u001b[0mducts\u001b[0m\u001b[0;34m:\u001b[0m\u001b[0;34m\u001b[0m\u001b[0m\n\u001b[1;32m      6\u001b[0m     \u001b[0;32mif\u001b[0m \u001b[0max\u001b[0m \u001b[0;32mis\u001b[0m \u001b[0mNone\u001b[0m\u001b[0;34m:\u001b[0m\u001b[0;34m\u001b[0m\u001b[0m\n\u001b[0;32m----> 7\u001b[0;31m         \u001b[0max\u001b[0m\u001b[0;34m=\u001b[0m\u001b[0mduct\u001b[0m\u001b[0;34m.\u001b[0m\u001b[0mplot_report\u001b[0m\u001b[0;34m(\u001b[0m \u001b[0mfmin\u001b[0m\u001b[0;34m=\u001b[0m\u001b[0;36m20\u001b[0m\u001b[0;34m,\u001b[0m \u001b[0mfmax\u001b[0m\u001b[0;34m=\u001b[0m\u001b[0mmax\u001b[0m\u001b[0;34m(\u001b[0m\u001b[0mfvec\u001b[0m\u001b[0;34m)\u001b[0m\u001b[0;34m,\u001b[0m \u001b[0mnpoints\u001b[0m\u001b[0;34m=\u001b[0m\u001b[0;36m10000\u001b[0m\u001b[0;34m)\u001b[0m\u001b[0;34m\u001b[0m\u001b[0m\n\u001b[0m\u001b[1;32m      8\u001b[0m     \u001b[0;32melse\u001b[0m\u001b[0;34m:\u001b[0m\u001b[0;34m\u001b[0m\u001b[0m\n\u001b[1;32m      9\u001b[0m         \u001b[0mduct\u001b[0m\u001b[0;34m.\u001b[0m\u001b[0mplot_report\u001b[0m\u001b[0;34m(\u001b[0m\u001b[0max\u001b[0m\u001b[0;34m=\u001b[0m\u001b[0max\u001b[0m\u001b[0;34m,\u001b[0m \u001b[0mfmin\u001b[0m\u001b[0;34m=\u001b[0m\u001b[0;36m20\u001b[0m\u001b[0;34m,\u001b[0m \u001b[0mfmax\u001b[0m\u001b[0;34m=\u001b[0m\u001b[0mmax\u001b[0m\u001b[0;34m(\u001b[0m\u001b[0mfvec\u001b[0m\u001b[0;34m)\u001b[0m\u001b[0;34m,\u001b[0m \u001b[0mnpoints\u001b[0m\u001b[0;34m=\u001b[0m\u001b[0;36m10000\u001b[0m\u001b[0;34m)\u001b[0m\u001b[0;34m\u001b[0m\u001b[0m\n",
      "\u001b[0;31mNameError\u001b[0m: name 'fvec' is not defined"
     ]
    }
   ],
   "source": [
    "\n",
    "#fig,ax=pl.subplots(2,sharex=True)\n",
    "\n",
    "ax = None\n",
    "for duct in ducts:\n",
    "    if ax is None:\n",
    "        ax=duct.plot_report( fmin=20, fmax=max(fvec), npoints=10000)\n",
    "    else:\n",
    "        duct.plot_report(ax=ax, fmin=20, fmax=max(fvec), npoints=10000)\n",
    "    \n",
    "ax[1].axhline((np.abs(duct.elements[0].get_characteristic_impedance())),\n",
    "              lw=1,ls='--',color='r')\n",
    "\n",
    "f=0\n",
    "c=duct.speed_of_sound\n",
    "f+=c/(4*l0)\n",
    "ax[1].axvline(f,ls='--',lw=1)\n",
    "ax[2].axvline(f,ls='--',lw=1)"
   ]
  }
 ],
 "metadata": {
  "hide_input": false,
  "kernelspec": {
   "display_name": "Python 2",
   "language": "python",
   "name": "python2"
  },
  "language_info": {
   "codemirror_mode": {
    "name": "ipython",
    "version": 2
   },
   "file_extension": ".py",
   "mimetype": "text/x-python",
   "name": "python",
   "nbconvert_exporter": "python",
   "pygments_lexer": "ipython2",
   "version": "2.7.12"
  }
 },
 "nbformat": 4,
 "nbformat_minor": 2
}
