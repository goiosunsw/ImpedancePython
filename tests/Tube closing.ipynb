{
 "cells": [
  {
   "cell_type": "markdown",
   "metadata": {},
   "source": [
    "# Simulation of ducts with decreasing openings"
   ]
  },
  {
   "cell_type": "code",
   "execution_count": null,
   "metadata": {},
   "outputs": [],
   "source": [
    "import sys\n",
    "sys.path.append('..')\n",
    "import ImpedanceSynthesiser as imps\n",
    "import numpy as np\n",
    "import matplotlib.pyplot as pl\n",
    "%matplotlib notebook\n",
    "\n",
    "reload(imps)"
   ]
  },
  {
   "cell_type": "markdown",
   "metadata": {},
   "source": [
    "## Define the ducts\n",
    "\n",
    "* **world** defines the temperature and humidity\n",
    "* we build an array of **ducts** with decreasing opening cross-sections"
   ]
  },
  {
   "cell_type": "code",
   "execution_count": null,
   "metadata": {},
   "outputs": [],
   "source": [
    "world = imps.AcousticWorld()\n",
    "\n",
    "l0 = 1.0\n",
    "lb = .5\n",
    "\n",
    "rad0 = .0075\n",
    "rad_end = [.0075,.0035,.002,.001]\n",
    "\n",
    "ducts = []\n",
    "\n",
    "duct = imps.Duct(world=world,losses=True)\n",
    "duct.set_termination(imps.PerfectOpenEnd())\n",
    "duct.append_element(imps.StraightDuct(length=lb,radius=rad0))\n",
    "ducts.append(duct)\n",
    "\n",
    "for rad_e in rad_end:\n",
    "    duct = imps.Duct(world=world,losses=True)\n",
    "    duct.set_termination(imps.PerfectOpenEnd())\n",
    "    duct.append_element(imps.StraightDuct(length=lb,radius=rad0))\n",
    "    duct.append_element(imps.StraightDuct(length=l0-lb,radius=rad_e))\n",
    "    ducts.append(duct)\n",
    "\n",
    "duct = imps.Duct(world=world,losses=True)\n",
    "duct.set_termination(imps.PerfectClosedEnd())\n",
    "duct.append_element(imps.StraightDuct(length=lb,radius=rad0))\n",
    "ducts.append(duct)\n",
    "\n",
    "# append an extra \n",
    "rext = 0.05\n",
    "lext = 0.01\n",
    "#for duct in ducts:\n",
    "#    duct.append_element(imps.StraightDuct(length=lext,radius=rext))\n"
   ]
  },
  {
   "cell_type": "markdown",
   "metadata": {},
   "source": [
    "## Duct impedances, compared"
   ]
  },
  {
   "cell_type": "code",
   "execution_count": null,
   "metadata": {},
   "outputs": [],
   "source": [
    "fvec = np.linspace(10,1000,1000)\n",
    "\n",
    "#fig,ax=pl.subplots(2,sharex=True)\n",
    "\n",
    "ax = None\n",
    "for duct in ducts:\n",
    "    if ax is None:\n",
    "        ax=duct.plot_report( fmax=max(fvec), npoints=2000)\n",
    "    else:\n",
    "        duct.plot_report(ax=ax, fmax=max(fvec), npoints=2000)\n",
    "    \n",
    "ax[1].axhline((np.abs(duct.elements[0].get_characteristic_impedance())),\n",
    "              lw=1,ls='--',color='r')\n",
    "\n",
    "f=0\n",
    "c=duct.speed_of_sound\n",
    "while f < max(fvec):\n",
    "    f+=c/(4*l0)\n",
    "    ax[1].axvline(f,ls='--',lw=1)\n",
    "    ax[2].axvline(f,ls='--',lw=1)"
   ]
  },
  {
   "cell_type": "markdown",
   "metadata": {},
   "source": [
    "## Pressure transfer functions\n",
    "\n",
    "Given two points along the duct (**pos**), what is the ratio of pressures, as a function of frequency? "
   ]
  },
  {
   "cell_type": "code",
   "execution_count": null,
   "metadata": {},
   "outputs": [],
   "source": [
    "fvec = np.linspace(10,1000,1000)\n",
    "\n",
    "fig,ax=pl.subplots(2,sharex=True)\n",
    "\n",
    "pos= [0.005,lb-0.005]\n",
    "\n",
    "for duct in ducts:\n",
    "    tf = duct.pressure_transfer_func(fvec,from_pos=pos[0],to_pos=pos[1])\n",
    "    ax[0].plot(fvec,20*np.log10(np.abs(tf)))\n",
    "    ax[1].plot(fvec,(np.angle(tf)))\n",
    "    \n",
    "ax[0].axhline(0, lw=1, ls='--', color='r')\n",
    "\n",
    "f=0\n",
    "c=duct.speed_of_sound\n",
    "while f < max(fvec):\n",
    "    f+=c/(4*l0)\n",
    "    ax[0].axvline(f,ls='--',lw=1)\n",
    "    ax[1].axvline(f,ls='--',lw=1)"
   ]
  },
  {
   "cell_type": "markdown",
   "metadata": {},
   "source": [
    "## Element chaining checks\n",
    "\n",
    "Check that transfer functions are independent of chaining order"
   ]
  },
  {
   "cell_type": "code",
   "execution_count": null,
   "metadata": {},
   "outputs": [],
   "source": [
    "def pressure_transfer_func(duct, freq=1.0, from_pos=0.0,\n",
    "                           to_pos=None, ref_pos=None, reverse=False):\n",
    "    \"\"\"\n",
    "    get the ratios of pressures at two positions in the duct\n",
    "    \"\"\"\n",
    "    total_length = duct.get_total_length()\n",
    "    if to_pos is None:\n",
    "        # sys.stderr.write('\\nsetting position to {}\\n'.format(total_length))\n",
    "        end_pos = total_length\n",
    "    else:\n",
    "        end_pos = to_pos\n",
    "\n",
    "    if ref_pos is None:\n",
    "        ref_pos = total_length\n",
    "\n",
    "    cmx1 = duct.transfer_mx_at_freq(freq, from_pos=ref_pos,\n",
    "                                    to_pos=from_pos, reverse=reverse)\n",
    "    cmx2 = duct.transfer_mx_at_freq(freq, from_pos=ref_pos,\n",
    "                                    to_pos=to_pos, reverse=reverse)\n",
    "    z0 = (duct.get_input_impedance_at_freq(freq,\n",
    "                                           from_pos=ref_pos))\n",
    "\n",
    "    # set dummy variable to zero if z0 is infinite\n",
    "    # (this will prevent nan for infinite impedances)\n",
    "    one = np.isfinite(z0)\n",
    "    z0[np.logical_not(one)] = 1.\n",
    "    tfp = (cmx2[0,0]*z0 + cmx2[0,1]*one) / \\\n",
    "          (cmx1[0,0]*z0 + cmx1[0,1]*one)\n",
    "    return tfp\n",
    "\n"
   ]
  },
  {
   "cell_type": "code",
   "execution_count": null,
   "metadata": {},
   "outputs": [],
   "source": [
    "fvec = np.linspace(10,1500,1000)\n",
    "\n",
    "fig,ax=pl.subplots(2,sharex=True)\n",
    "\n",
    "pos= [0.005,lb-0.005]\n",
    "\n",
    "duct=ducts[1]\n",
    "\n",
    "tf = pressure_transfer_func(duct,fvec,from_pos=pos[0],to_pos=pos[1],reverse=False)\n",
    "\n",
    "ax[0].plot(fvec,20*np.log10(np.abs(tf)))\n",
    "ax[1].plot(fvec,(np.angle(tf)))\n",
    "\n",
    "tf = pressure_transfer_func(duct,fvec,from_pos=pos[0],to_pos=pos[1],reverse=True)\n",
    "\n",
    "ax[0].plot(fvec,20*np.log10(np.abs(tf)))\n",
    "ax[1].plot(fvec,(np.angle(tf)))\n",
    "\n",
    "#ax[1].axhline((np.abs(duct.elements[0].get_characteristic_impedance())),\n",
    "#              lw=1,ls='--',color='r')\n",
    "\n",
    "f=0\n",
    "c=duct.speed_of_sound\n",
    "while f < max(fvec):\n",
    "    f+=c/(4*l0)\n",
    "    ax[0].axvline(f,ls='--',lw=1)\n",
    "    ax[1].axvline(f,ls='--',lw=1)"
   ]
  }
 ],
 "metadata": {
  "hide_input": false,
  "kernelspec": {
   "display_name": "Python 2",
   "language": "python",
   "name": "python2"
  },
  "language_info": {
   "codemirror_mode": {
    "name": "ipython",
    "version": 2
   },
   "file_extension": ".py",
   "mimetype": "text/x-python",
   "name": "python",
   "nbconvert_exporter": "python",
   "pygments_lexer": "ipython2"
  }
 },
 "nbformat": 4,
 "nbformat_minor": 2
}
