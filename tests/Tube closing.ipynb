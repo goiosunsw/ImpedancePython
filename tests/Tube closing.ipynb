{
 "cells": [
  {
   "cell_type": "code",
   "execution_count": null,
   "metadata": {},
   "outputs": [],
   "source": [
    "import sys\n",
    "sys.path.append('..')\n",
    "import ImpedanceSynthesiser as imps\n",
    "import numpy as np\n",
    "import matplotlib.pyplot as pl\n",
    "%matplotlib notebook\n",
    "\n",
    "reload(imps)"
   ]
  },
  {
   "cell_type": "code",
   "execution_count": null,
   "metadata": {},
   "outputs": [],
   "source": [
    "world = imps.AcousticWorld()\n",
    "\n",
    "l0 = 1.0\n",
    "lb = .5\n",
    "\n",
    "rad0 = .0075\n",
    "rad_end = [.0075,.0035,.002,.001]\n",
    "\n",
    "ducts = []\n",
    "\n",
    "duct = imps.Duct(world=world,losses=True)\n",
    "duct.set_termination(imps.PerfectOpenEnd())\n",
    "duct.append_element(imps.StraightDuct(length=lb,radius=rad0))\n",
    "ducts.append(duct)\n",
    "\n",
    "for rad_e in rad_end:\n",
    "    duct = imps.Duct(world=world,losses=True)\n",
    "    duct.set_termination(imps.PerfectOpenEnd())\n",
    "    duct.append_element(imps.StraightDuct(length=lb,radius=rad0))\n",
    "    duct.append_element(imps.StraightDuct(length=l0-lb,radius=rad_e))\n",
    "    ducts.append(duct)\n",
    "\n",
    "duct = imps.Duct(world=world,losses=True)\n",
    "duct.set_termination(imps.PerfectClosedEnd())\n",
    "duct.append_element(imps.StraightDuct(length=lb,radius=rad0))\n",
    "ducts.append(duct)\n",
    "\n",
    "# append an extra \n",
    "rext = 0.05\n",
    "lext = 0.01\n",
    "for duct in ducts:\n",
    "    duct.append_element(imps.StraightDuct(length=lext,radius=rext))\n"
   ]
  },
  {
   "cell_type": "code",
   "execution_count": null,
   "metadata": {},
   "outputs": [],
   "source": [
    "fvec = np.linspace(10,1000,1000)\n",
    "\n",
    "#fig,ax=pl.subplots(2,sharex=True)\n",
    "\n",
    "ax = None\n",
    "for duct in ducts:\n",
    "    if ax is None:\n",
    "        ax=duct.plot_report( fmax=max(fvec), npoints=2000)\n",
    "    else:\n",
    "        duct.plot_report(ax=ax, fmax=max(fvec), npoints=2000)\n",
    "    \n",
    "ax[1].axhline((np.abs(duct.elements[0].get_characteristic_impedance())),\n",
    "              lw=1,ls='--',color='r')\n",
    "\n",
    "f=0\n",
    "c=duct.speed_of_sound\n",
    "while f < max(fvec):\n",
    "    f+=c/(4*l0)\n",
    "    ax[1].axvline(f,ls='--',lw=1)\n",
    "    ax[2].axvline(f,ls='--',lw=1)"
   ]
  },
  {
   "cell_type": "code",
   "execution_count": null,
   "metadata": {},
   "outputs": [],
   "source": [
    "fvec = np.linspace(10,1000,1000)\n",
    "\n",
    "fig,ax=pl.subplots(2,sharex=True)\n",
    "\n",
    "pos= [0.005,lb-0.005]\n",
    "\n",
    "for duct in ducts:\n",
    "    tf = duct.pressure_transfer_func(fvec,from_pos=pos[0],to_pos=pos[1])\n",
    "    ax[0].plot(fvec,20*np.log10(np.abs(tf)))\n",
    "    ax[1].plot(fvec,(np.angle(tf)))\n",
    "    \n",
    "#ax[1].axhline((np.abs(duct.elements[0].get_characteristic_impedance())),\n",
    "#              lw=1,ls='--',color='r')\n",
    "\n",
    "f=0\n",
    "c=duct.speed_of_sound\n",
    "while f < max(fvec):\n",
    "    f+=c/(4*l0)\n",
    "    ax[0].axvline(f,ls='--',lw=1)\n",
    "    ax[1].axvline(f,ls='--',lw=1)"
   ]
  },
  {
   "cell_type": "code",
   "execution_count": null,
   "metadata": {},
   "outputs": [],
   "source": [
    "np.matmul?"
   ]
  },
  {
   "cell_type": "code",
   "execution_count": null,
   "metadata": {},
   "outputs": [],
   "source": [
    "aa=np.arange(2*2*4).reshape(2,2,4)"
   ]
  },
  {
   "cell_type": "code",
   "execution_count": null,
   "metadata": {},
   "outputs": [],
   "source": [
    "np.dot(aa.swapaxes(0,2),aa.swapaxes(0,2)).swapaxes(0,2)"
   ]
  },
  {
   "cell_type": "code",
   "execution_count": null,
   "metadata": {},
   "outputs": [],
   "source": [
    "[np.matmul(aa[:,:,ii],aa[:,:,ii]) for ii in range(4)]"
   ]
  },
  {
   "cell_type": "code",
   "execution_count": null,
   "metadata": {},
   "outputs": [],
   "source": [
    "el=ducts[1].elements[0]\n",
    "tm0=el.normalized_two_point_transfer_mx_at_freq(fvec)\n",
    "el=ducts[1].elements[1]\n",
    "tm1=el.normalized_two_point_transfer_mx_at_freq(fvec)"
   ]
  },
  {
   "cell_type": "code",
   "execution_count": null,
   "metadata": {},
   "outputs": [],
   "source": [
    "sw = [0,2]\n",
    "np.matmul(tm0.swapaxes(*sw),tm1.swapaxes(*sw)).swapaxes(*sw)"
   ]
  },
  {
   "cell_type": "code",
   "execution_count": null,
   "metadata": {},
   "outputs": [],
   "source": [
    "z=el._chain_impedance_at_freq(freq=fvec,z_end=np.ones(len(fvec))*np.inf)\n",
    "el._chain_impedance_at_freq(freq=fvec,z_end=z).shape"
   ]
  },
  {
   "cell_type": "code",
   "execution_count": null,
   "metadata": {},
   "outputs": [],
   "source": [
    "tm"
   ]
  },
  {
   "cell_type": "code",
   "execution_count": null,
   "metadata": {},
   "outputs": [],
   "source": [
    "ff=100\n",
    "el.normalized_two_point_transfer_mx_at_freq(ff)"
   ]
  },
  {
   "cell_type": "code",
   "execution_count": null,
   "metadata": {},
   "outputs": [],
   "source": [
    "ffidx = np.argmin(np.abs(fvec-ff))\n",
    "el.normalized_two_point_transfer_mx_at_freq(fvec)[:,:,ffidx]"
   ]
  },
  {
   "cell_type": "code",
   "execution_count": null,
   "metadata": {},
   "outputs": [],
   "source": [
    "np.argmin(np.abs(fvec-ff))"
   ]
  },
  {
   "cell_type": "code",
   "execution_count": null,
   "metadata": {},
   "outputs": [],
   "source": [
    "el.get_propagation_coefficient(fvec)"
   ]
  },
  {
   "cell_type": "code",
   "execution_count": null,
   "metadata": {},
   "outputs": [],
   "source": [
    "[[el.get_length() for el in dd.elements] for dd in ducts]"
   ]
  },
  {
   "cell_type": "code",
   "execution_count": null,
   "metadata": {},
   "outputs": [],
   "source": []
  }
 ],
 "metadata": {
  "hide_input": false,
  "kernelspec": {
   "display_name": "Python 2",
   "language": "python",
   "name": "python2"
  },
  "language_info": {
   "codemirror_mode": {
    "name": "ipython",
    "version": 2
   },
   "file_extension": ".py",
   "mimetype": "text/x-python",
   "name": "python",
   "nbconvert_exporter": "python",
   "pygments_lexer": "ipython2"
  }
 },
 "nbformat": 4,
 "nbformat_minor": 2
}
