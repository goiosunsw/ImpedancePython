{
 "cells": [
  {
   "cell_type": "code",
   "execution_count": null,
   "metadata": {},
   "outputs": [],
   "source": [
    "import sys\n",
    "sys.path.append('..')\n",
    "import ImpedanceSynthesiser as imps\n",
    "import numpy as np\n",
    "import matplotlib.pyplot as pl\n",
    "%matplotlib notebook\n",
    "\n",
    "reload(imps)"
   ]
  },
  {
   "cell_type": "code",
   "execution_count": null,
   "metadata": {},
   "outputs": [],
   "source": [
    "world = imps.AcousticWorld()\n",
    "\n",
    "l0 = .75\n",
    "\n",
    "ducts = []\n",
    "\n",
    "duct = imps.Duct(world=world,losses=True)\n",
    "duct.set_termination(imps.PerfectOpenEnd())\n",
    "duct.append_element(imps.StraightDuct(length=l0,radius=.0075))\n",
    "ducts.append(duct)\n",
    "\n",
    "duct = imps.Duct(world=world,losses=True)\n",
    "duct.set_termination(imps.PerfectOpenEnd())\n",
    "lb = .35\n",
    "duct.append_element(imps.StraightDuct(length=lb,radius=.0075))\n",
    "duct.append_element(imps.StraightDuct(length=l0-lb,radius=.015))\n",
    "ducts.append(duct)\n",
    "\n",
    "duct = imps.Duct(world=world,losses=True)\n",
    "duct.set_termination(imps.PerfectOpenEnd())\n",
    "lb = .5\n",
    "duct.append_element(imps.StraightDuct(length=l0,radius=.0073))\n",
    "duct.append_element(imps.StraightDuct(length=lb,radius=.0025))\n",
    "ducts.append(duct)"
   ]
  },
  {
   "cell_type": "code",
   "execution_count": null,
   "metadata": {},
   "outputs": [],
   "source": [
    "fvec = np.linspace(10,2000,1000)\n",
    "\n",
    "fig,ax=pl.subplots(2,sharex=True)\n",
    "\n",
    "for duct in ducts:\n",
    "    z=[]\n",
    "    for f in fvec:\n",
    "        z.append(duct.get_input_impedance_at_freq(f))\n",
    "    \n",
    "    ax[0].plot(fvec,20*np.log10(np.abs(z)))\n",
    "    ax[1].plot(fvec,np.angle(z))\n",
    "\n",
    "ax[0].axhline(20*np.log10(np.abs(duct.elements[0].get_characteristic_impedance())),\n",
    "              lw=1,ls='--',color='r')\n",
    "\n",
    "f=0\n",
    "c=duct.speed_of_sound\n",
    "while f < max(fvec):\n",
    "    f+=c/(4*l0)\n",
    "    ax[0].axvline(f,ls='--',lw=1)\n",
    "    ax[1].axvline(f,ls='--',lw=1)"
   ]
  },
  {
   "cell_type": "code",
   "execution_count": null,
   "metadata": {},
   "outputs": [],
   "source": [
    "fvec = np.linspace(10,2000,1000)\n",
    "\n",
    "#fig,ax=pl.subplots(2,sharex=True)\n",
    "\n",
    "ax = None\n",
    "for duct in ducts:\n",
    "    if ax is None:\n",
    "        ax=duct.plot_report( fmax=max(fvec), npoints=2000)\n",
    "    else:\n",
    "        duct.plot_report(ax=ax, fmax=max(fvec), npoints=2000)\n",
    "    \n",
    "ax[1].axhline((np.abs(duct.elements[0].get_characteristic_impedance())),\n",
    "              lw=1,ls='--',color='r')\n",
    "\n",
    "f=0\n",
    "c=duct.speed_of_sound\n",
    "while f < max(fvec):\n",
    "    f+=c/(4*l0)\n",
    "    ax[1].axvline(f,ls='--',lw=1)\n",
    "    ax[2].axvline(f,ls='--',lw=1)"
   ]
  },
  {
   "cell_type": "code",
   "execution_count": null,
   "metadata": {},
   "outputs": [],
   "source": [
    "\n",
    "pl.figure()\n",
    "for duct in ducts:\n",
    "    x,y=duct.get_coords()\n",
    "    ln=pl.plot(x,y)\n",
    "    pl.plot(x,-np.array(y), color = ln[0].get_color())"
   ]
  },
  {
   "cell_type": "code",
   "execution_count": null,
   "metadata": {},
   "outputs": [],
   "source": [
    "duct.elements[0].get_characteristic_impedance()"
   ]
  },
  {
   "cell_type": "code",
   "execution_count": null,
   "metadata": {},
   "outputs": [],
   "source": [
    "1.2*340/(.0075**2*np.pi)"
   ]
  },
  {
   "cell_type": "code",
   "execution_count": null,
   "metadata": {},
   "outputs": [],
   "source": [
    "c/4/l0"
   ]
  },
  {
   "cell_type": "code",
   "execution_count": null,
   "metadata": {},
   "outputs": [],
   "source": [
    "ax[0].get_xlim()[-1]\n"
   ]
  },
  {
   "cell_type": "code",
   "execution_count": null,
   "metadata": {},
   "outputs": [],
   "source": [
    "duct.elements[0].get_propagation_coefficient(1000.)"
   ]
  },
  {
   "cell_type": "code",
   "execution_count": null,
   "metadata": {},
   "outputs": [],
   "source": [
    "ax=duct.plot_impedance(npoints=1000)"
   ]
  },
  {
   "cell_type": "code",
   "execution_count": null,
   "metadata": {},
   "outputs": [],
   "source": []
  }
 ],
 "metadata": {
  "hide_input": false,
  "kernelspec": {
   "display_name": "Python 2",
   "language": "python",
   "name": "python2"
  },
  "language_info": {
   "codemirror_mode": {
    "name": "ipython",
    "version": 2
   },
   "file_extension": ".py",
   "mimetype": "text/x-python",
   "name": "python",
   "nbconvert_exporter": "python",
   "pygments_lexer": "ipython2"
  }
 },
 "nbformat": 4,
 "nbformat_minor": 2
}
