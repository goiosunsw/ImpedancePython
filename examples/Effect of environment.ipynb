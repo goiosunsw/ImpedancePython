{
 "cells": [
  {
   "cell_type": "code",
   "execution_count": null,
   "metadata": {},
   "outputs": [],
   "source": [
    "import sys\n",
    "sys.path.append('..')\n",
    "import ImpedanceSynthesiser as imps\n",
    "import numpy as np\n",
    "import matplotlib.pyplot as pl\n",
    "%matplotlib notebook\n",
    "\n",
    "reload(imps)"
   ]
  },
  {
   "cell_type": "code",
   "execution_count": null,
   "metadata": {},
   "outputs": [],
   "source": [
    "\n",
    "l0 = 1.0\n",
    "rad=.0075\n",
    "\n",
    "temp = [-20,0,15,30]\n",
    "\n",
    "ducts = []\n",
    "legs=[]\n",
    "\n",
    "t=temp[0]\n",
    "duct = imps.Duct(world=world,losses=False)\n",
    "duct.set_termination(imps.PerfectOpenEnd())\n",
    "duct.append_element(imps.StraightDuct(length=l0,radius=rad))\n",
    "ducts.append(duct)\n",
    "legs.append('{} C (no loss)'.format(t))\n",
    "\n",
    "for t in temp:\n",
    "    world = imps.AcousticWorld(temp=t)\n",
    "    duct = imps.Duct(world=world,losses=True)\n",
    "    duct.set_termination(imps.PerfectOpenEnd())\n",
    "    duct.append_element(imps.StraightDuct(length=l0,radius=rad))\n",
    "    ducts.append(duct)\n",
    "    legs.append('{} C'.format(t))\n",
    "\n",
    "\n"
   ]
  },
  {
   "cell_type": "code",
   "execution_count": null,
   "metadata": {},
   "outputs": [],
   "source": [
    "fvec = np.linspace(10,500,1000)\n",
    "\n",
    "#fig,ax=pl.subplots(2,sharex=True)\n",
    "\n",
    "ax = None\n",
    "for duct in ducts:\n",
    "    if ax is None:\n",
    "        ax=duct.plot_report( fmax=max(fvec), npoints=2000)\n",
    "    else:\n",
    "        duct.plot_report(ax=ax, fmax=max(fvec), npoints=2000)\n",
    "    \n",
    "    \n",
    "ax[1].legend(legs, fontsize=10 )\n",
    "f=0\n",
    "c=duct.speed_of_sound\n",
    "while f < max(fvec):\n",
    "    f+=c/(4*l0)\n",
    "    ax[1].axvline(f,ls='--',lw=1)\n",
    "    ax[2].axvline(f,ls='--',lw=1)"
   ]
  },
  {
   "cell_type": "code",
   "execution_count": null,
   "metadata": {},
   "outputs": [],
   "source": []
  },
  {
   "cell_type": "code",
   "execution_count": null,
   "metadata": {},
   "outputs": [],
   "source": [
    "\n",
    "l0 = 1.0\n",
    "rad=.0075\n",
    "\n",
    "t=20\n",
    "humid = [0,50,100]\n",
    "\n",
    "ducts = []\n",
    "legs=[]\n",
    "\n",
    "\n",
    "for h in humid:\n",
    "    world = imps.AcousticWorld(humid=h/100.)\n",
    "    duct = imps.Duct(world=world,losses=True)\n",
    "    duct.set_termination(imps.PerfectOpenEnd())\n",
    "    duct.append_element(imps.StraightDuct(length=l0,radius=rad))\n",
    "    ducts.append(duct)\n",
    "    legs.append('{} %'.format(h))\n",
    "\n",
    "\n"
   ]
  },
  {
   "cell_type": "code",
   "execution_count": null,
   "metadata": {},
   "outputs": [],
   "source": [
    "fvec = np.linspace(80,90,1000)\n",
    "\n",
    "#fig,ax=pl.subplots(2,sharex=True)\n",
    "\n",
    "ax = None\n",
    "for duct in ducts:\n",
    "    if ax is None:\n",
    "        ax=duct.plot_report( fmin=80, fmax=90, npoints=100)\n",
    "    else:\n",
    "        duct.plot_report(ax=ax, fmin=80, fmax=90, npoints=100)\n",
    "    \n",
    "    \n",
    "ax[1].legend(legs )\n",
    "f=0\n",
    "c=duct.speed_of_sound\n",
    "f=c/(4*l0)\n",
    "ax[1].axvline(f,ls='--',lw=1)\n",
    "ax[2].axvline(f,ls='--',lw=1)"
   ]
  },
  {
   "cell_type": "code",
   "execution_count": null,
   "metadata": {},
   "outputs": [],
   "source": []
  }
 ],
 "metadata": {
  "hide_input": false,
  "kernelspec": {
   "display_name": "unsw",
   "language": "python",
   "name": "unsw"
  },
  "language_info": {
   "codemirror_mode": {
    "name": "ipython",
    "version": 3
   },
   "file_extension": ".py",
   "mimetype": "text/x-python",
   "name": "python",
   "nbconvert_exporter": "python",
   "pygments_lexer": "ipython3",
   "version": "3.6.3"
  }
 },
 "nbformat": 4,
 "nbformat_minor": 2
}
