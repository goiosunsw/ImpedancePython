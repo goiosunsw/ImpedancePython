{
 "cells": [
  {
   "cell_type": "code",
   "execution_count": null,
   "metadata": {},
   "outputs": [],
   "source": [
    "import sys\n",
    "sys.path.append('..')\n",
    "import ImpedanceSynthesiser as imps\n",
    "import numpy as np\n",
    "import matplotlib.pyplot as pl\n",
    "%matplotlib notebook\n",
    "\n",
    "reload(imps)"
   ]
  },
  {
   "cell_type": "code",
   "execution_count": null,
   "metadata": {},
   "outputs": [],
   "source": [
    "world = imps.AcousticWorld()\n",
    "\n",
    "l0 = 1.0\n",
    "\n",
    "rad0 = [0.02,.0075,.0035,.002,.001]\n",
    "\n",
    "ducts = []\n",
    "\n",
    "\n",
    "for rad in rad0:\n",
    "    duct = imps.Duct(world=world,losses=True)\n",
    "    duct.set_termination(imps.PerfectOpenEnd())\n",
    "    duct.append_element(imps.StraightDuct(length=l0,radius=rad))\n",
    "    ducts.append(duct)\n",
    "\n"
   ]
  },
  {
   "cell_type": "code",
   "execution_count": null,
   "metadata": {},
   "outputs": [],
   "source": [
    "fvec = np.linspace(10,500,1000)\n",
    "\n",
    "#fig,ax=pl.subplots(2,sharex=True)\n",
    "\n",
    "ax = None\n",
    "for duct in ducts:\n",
    "    if ax is None:\n",
    "        ax=duct.plot_report( fmax=max(fvec), npoints=2000)\n",
    "    else:\n",
    "        duct.plot_report(ax=ax, fmax=max(fvec), npoints=2000)\n",
    "    \n",
    "    ax[1].axhline((np.abs(duct.elements[0].get_characteristic_impedance())),\n",
    "                  lw=1,ls='--',color=ax[0].lines[-1].get_color())\n",
    "\n",
    "f=0\n",
    "c=duct.speed_of_sound\n",
    "while f < max(fvec):\n",
    "    f+=c/(4*l0)\n",
    "    ax[1].axvline(f,ls='--',lw=1)\n",
    "    ax[2].axvline(f,ls='--',lw=1)"
   ]
  },
  {
   "cell_type": "code",
   "execution_count": null,
   "metadata": {},
   "outputs": [],
   "source": [
    "world.temperature"
   ]
  },
  {
   "cell_type": "code",
   "execution_count": null,
   "metadata": {},
   "outputs": [],
   "source": []
  }
 ],
 "metadata": {
  "hide_input": false,
  "kernelspec": {
   "display_name": "Python 2",
   "language": "python",
   "name": "python2"
  },
  "language_info": {
   "codemirror_mode": {
    "name": "ipython",
    "version": 2
   },
   "file_extension": ".py",
   "mimetype": "text/x-python",
   "name": "python",
   "nbconvert_exporter": "python",
   "pygments_lexer": "ipython2"
  }
 },
 "nbformat": 4,
 "nbformat_minor": 2
}
