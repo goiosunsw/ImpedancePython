{
 "cells": [
  {
   "cell_type": "code",
   "execution_count": null,
   "metadata": {},
   "outputs": [],
   "source": [
    "import sys\n",
    "sys.path.append('..')\n",
    "import ImpedanceSynthesiser as imps\n",
    "import numpy as np\n",
    "import matplotlib.pyplot as pl\n",
    "%matplotlib notebook\n",
    "\n",
    "reload(imps)"
   ]
  },
  {
   "cell_type": "code",
   "execution_count": null,
   "metadata": {},
   "outputs": [],
   "source": [
    "world = imps.AcousticWorld()\n",
    "\n",
    "l0 = .75\n",
    "rad=.0075\n",
    "s = np.pi*rad**2\n",
    "v=l0*s\n",
    "\n",
    "rho=world.medium_density\n",
    "c=world.speed_of_sound\n",
    "\n",
    "ducts = []\n",
    "\n",
    "duct = imps.Duct(world=world,losses=False)\n",
    "duct.set_termination(imps.PerfectOpenEnd())\n",
    "duct.append_element(imps.StraightDuct(length=l0,radius=rad))\n",
    "#ducts.append(duct)\n"
   ]
  },
  {
   "cell_type": "code",
   "execution_count": null,
   "metadata": {},
   "outputs": [],
   "source": [
    "fvec = np.logspace(1,3,1000)\n",
    "omega=2*np.pi*fvec\n",
    "\n",
    "fig,ax=pl.subplots(2,sharex=True)\n",
    "\n",
    "z = duct.get_input_impedance_at_freq(fvec)\n",
    "\n",
    "ax[0].loglog(fvec,np.abs(z))\n",
    "ax[0].axhline(rho*c/s,ls=':')\n",
    "ax[0].axvline(c/4/l0,ls=':')\n",
    "ax[0].axvline(3*c/4/l0,ls=':')\n",
    "\n",
    "ax[0].loglog(fvec,rho*l0/s*omega,'--')\n",
    "ax[0].loglog(fvec,rho*c**2/(v/(np.pi/2)**2)/omega,'--')\n",
    "mode1 = 1/(1/(rho*l0/s*1j*omega)+1/(rho*c**2/(v/(np.pi/2)**2)/1j/omega))\n",
    "ax[0].loglog(fvec,np.abs(mode1),'--')\n",
    "\n",
    "ax[0].loglog(fvec,rho*l0/s/3*omega,'--')\n",
    "ax[0].loglog(fvec,rho*c**2/(v/(np.pi/2)**2/3)/omega,'--')\n",
    "mode2 = 1/(1/(rho*l0/s/3*1j*omega)+1/(rho*c**2/(v/(np.pi/2)**2/3)/1j/omega))/np.sqrt(3)\n",
    "ax[0].loglog(fvec,np.abs(mode2),'--')\n",
    "\n",
    "ax[0].loglog(fvec,np.abs(mode1+mode2),'--')\n"
   ]
  },
  {
   "cell_type": "code",
   "execution_count": null,
   "metadata": {},
   "outputs": [],
   "source": [
    "115/52.\n"
   ]
  },
  {
   "cell_type": "code",
   "execution_count": null,
   "metadata": {},
   "outputs": [],
   "source": [
    "np.sqrt(np.pi)"
   ]
  },
  {
   "cell_type": "code",
   "execution_count": null,
   "metadata": {},
   "outputs": [],
   "source": []
  }
 ],
 "metadata": {
  "hide_input": false,
  "kernelspec": {
   "display_name": "Python 2",
   "language": "python",
   "name": "python2"
  },
  "language_info": {
   "codemirror_mode": {
    "name": "ipython",
    "version": 2
   },
   "file_extension": ".py",
   "mimetype": "text/x-python",
   "name": "python",
   "nbconvert_exporter": "python",
   "pygments_lexer": "ipython2"
  }
 },
 "nbformat": 4,
 "nbformat_minor": 2
}
