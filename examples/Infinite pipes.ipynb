{
 "cells": [
  {
   "cell_type": "code",
   "execution_count": null,
   "metadata": {},
   "outputs": [],
   "source": [
    "import sys\n",
    "sys.path.append('..')\n",
    "import ImpedanceSynthesiser as imps\n",
    "import numpy as np\n",
    "import matplotlib.pyplot as pl\n",
    "%matplotlib notebook\n",
    "\n",
    "reload(imps)"
   ]
  },
  {
   "cell_type": "code",
   "execution_count": null,
   "metadata": {},
   "outputs": [],
   "source": [
    "world = imps.AcousticWorld()\n",
    "\n",
    "l0 = 100.0\n",
    "\n",
    "rad0 = .0075\n",
    "\n",
    "ducts = []\n",
    "loss=True\n",
    "\n",
    "duct = imps.Duct(world=world,losses=loss)\n",
    "duct.set_termination(imps.PerfectOpenEnd())\n",
    "duct.append_element(imps.StraightDuct(length=l0,radius=rad0))\n",
    "ducts.append(duct)\n",
    "\n",
    "duct = imps.Duct(world=world,losses=loss)\n",
    "duct.set_termination(imps.PerfectClosedEnd())\n",
    "duct.append_element(imps.StraightDuct(length=l0,radius=rad0))\n",
    "ducts.append(duct)\n",
    "\n",
    "duct = imps.Duct(world=world,losses=loss)\n",
    "duct.set_termination(imps.PerfectAnechoicEnd())\n",
    "duct.append_element(imps.StraightDuct(length=l0,radius=rad0))\n",
    "ducts.append(duct)\n"
   ]
  },
  {
   "cell_type": "code",
   "execution_count": null,
   "metadata": {},
   "outputs": [],
   "source": [
    "fvec = np.linspace(10,500,1000)\n",
    "\n",
    "#fig,ax=pl.subplots(2,sharex=True)\n",
    "\n",
    "ax = None\n",
    "for duct in ducts:\n",
    "    if ax is None:\n",
    "        ax=duct.plot_report( fmin=20, fmax=max(fvec), npoints=10000)\n",
    "    else:\n",
    "        duct.plot_report(ax=ax, fmin=20, fmax=max(fvec), npoints=10000)\n",
    "    \n",
    "ax[1].axhline((np.abs(duct.elements[0].get_characteristic_impedance())),\n",
    "              lw=1,ls='--',color='r')\n",
    "\n",
    "f=0\n",
    "c=duct.speed_of_sound\n",
    "f+=c/(4*l0)\n",
    "ax[1].axvline(f,ls='--',lw=1)\n",
    "ax[2].axvline(f,ls='--',lw=1)"
   ]
  }
 ],
 "metadata": {
  "hide_input": false,
  "kernelspec": {
   "display_name": "Python 2",
   "language": "python",
   "name": "python2"
  },
  "language_info": {
   "codemirror_mode": {
    "name": "ipython",
    "version": 2
   },
   "file_extension": ".py",
   "mimetype": "text/x-python",
   "name": "python",
   "nbconvert_exporter": "python",
   "pygments_lexer": "ipython2"
  }
 },
 "nbformat": 4,
 "nbformat_minor": 2
}
