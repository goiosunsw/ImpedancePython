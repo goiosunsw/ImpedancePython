{
 "cells": [
  {
   "cell_type": "code",
   "execution_count": null,
   "metadata": {},
   "outputs": [],
   "source": [
    "import pympedance.Synthesiser as psyn"
   ]
  },
  {
   "cell_type": "code",
   "execution_count": null,
   "metadata": {},
   "outputs": [],
   "source": [
    "ti = psyn.FlangedPiston(radius=0.1*2)\n",
    "f = np.linspace(1,10000,1000)\n",
    "z = ti._get_impedance_at_freq(f)"
   ]
  },
  {
   "cell_type": "code",
   "execution_count": null,
   "metadata": {},
   "outputs": [],
   "source": [
    "%matplotlib notebook\n",
    "fig,ax = pl.subplots(2,sharex=True)\n",
    "ax[0].plot(f,20*np.log10(np.abs(z)))\n",
    "ax[1].plot(f,np.angle(z))"
   ]
  },
  {
   "cell_type": "code",
   "execution_count": null,
   "metadata": {},
   "outputs": [],
   "source": [
    "ti.get_characteristic_impedance()"
   ]
  },
  {
   "cell_type": "code",
   "execution_count": null,
   "metadata": {},
   "outputs": [],
   "source": [
    "rad=0.015\n",
    "length=0.2\n",
    "duct = psyn.Duct()\n",
    "ti = psyn.FlangedPiston(radius=rad)\n",
    "duct.set_termination(ti)\n",
    "duct.append_element(psyn.StraightDuct(length=length,radius=rad))\n",
    "print(ti.get_characteristic_impedance())\n",
    "f = np.linspace(1,4000,1000)\n",
    "z = duct.get_input_impedance_at_freq(f)\n",
    "\n",
    "%matplotlib notebook\n",
    "fig,ax = pl.subplots(2,sharex=True)\n",
    "ax[0].plot(f,20*np.log10(np.abs(z)))\n",
    "ax[1].plot(f,np.angle(z))\n",
    "\n",
    "rad=0.015\n",
    "duct = psyn.Duct()\n",
    "ti = psyn.PerfectOpenEnd()\n",
    "duct.set_termination(ti)\n",
    "duct.append_element(psyn.StraightDuct(length=length,radius=rad))\n",
    "print(ti.get_characteristic_impedance())\n",
    "z = duct.get_input_impedance_at_freq(f)\n",
    "ax[0].plot(f,20*np.log10(np.abs(z)))\n",
    "ax[1].plot(f,np.angle(z))\n",
    "\n"
   ]
  },
  {
   "cell_type": "code",
   "execution_count": null,
   "metadata": {},
   "outputs": [],
   "source": []
  }
 ],
 "metadata": {
  "hide_input": false,
  "kernelspec": {
   "display_name": "Python 3",
   "language": "python",
   "name": "python3"
  },
  "language_info": {
   "codemirror_mode": {
    "name": "ipython",
    "version": 3
   },
   "file_extension": ".py",
   "mimetype": "text/x-python",
   "name": "python",
   "nbconvert_exporter": "python",
   "pygments_lexer": "ipython3"
  }
 },
 "nbformat": 4,
 "nbformat_minor": 2
}
