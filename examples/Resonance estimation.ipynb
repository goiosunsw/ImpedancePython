{
 "cells": [
  {
   "cell_type": "code",
   "execution_count": null,
   "metadata": {},
   "outputs": [],
   "source": [
    "import sys\n",
    "sys.path.append('..')\n",
    "import pympedance.Synthesiser as imps\n",
    "import numpy as np\n",
    "import matplotlib.pyplot as pl\n",
    "%matplotlib notebook\n",
    "%matplotlib notebook\n",
    "%matplotlib notebook\n"
   ]
  },
  {
   "cell_type": "code",
   "execution_count": null,
   "metadata": {},
   "outputs": [],
   "source": [
    "world = imps.AcousticWorld()\n",
    "\n",
    "l0 = 1.0\n",
    "lmid=.2\n",
    "\n",
    "rad0 = .0075\n",
    "rad_mid = [.0005,.015]\n",
    "\n",
    "ducts = []\n",
    "loss=True\n",
    "\n",
    "duct = imps.Duct(world=world,losses=loss)\n",
    "duct.append_element(imps.StraightDuct(length=l0,radius=rad0))\n",
    "ducts.append(duct)\n",
    "duct.set_termination(imps.PerfectOpenEnd())\n",
    "\n",
    "for rad_e in rad_mid:\n",
    "    duct = imps.Duct(world=world,losses=loss)\n",
    "    duct.append_element(imps.StraightDuct(length=(l0-lmid)/2,radius=rad0))\n",
    "    duct.append_element(imps.StraightDuct(length=lmid,radius=rad_e))\n",
    "    duct.append_element(imps.StraightDuct(length=(l0-lmid)/2,radius=rad0))\n",
    "    ducts.append(duct)\n",
    "    duct.set_termination(imps.PerfectOpenEnd())\n",
    "\n",
    "duct = imps.Duct(world=world,losses=loss)\n",
    "duct.append_element(imps.StraightDuct(length=l0,radius=rad0))\n",
    "duct.set_termination(imps.PerfectOpenEnd())\n",
    "ducts.append(duct)"
   ]
  },
  {
   "cell_type": "code",
   "execution_count": null,
   "metadata": {},
   "outputs": [],
   "source": [
    "fvec = np.linspace(1,4000,5000)\n",
    "\n",
    "#fig,ax=pl.subplots(2,sharex=True)\n",
    "\n",
    "ax = None\n",
    "for duct in ducts:\n",
    "    #imped = duct.\n",
    "    if ax is None:\n",
    "        ax=duct.plot_report( fmin=min(fvec), fmax=max(fvec), npoints=2000)\n",
    "    else:\n",
    "        duct.plot_report(ax=ax, fmin=min(fvec), fmax=max(fvec), npoints=2000)\n",
    "    \n",
    "ax[1].axhline((np.abs(duct.elements[0].get_characteristic_impedance())),\n",
    "              lw=1,ls='--',color='r')\n",
    "\n",
    "f=0\n",
    "c=duct.speed_of_sound\n",
    "while f < max(fvec):\n",
    "    f+=c/(4*l0)\n",
    "    ax[1].axvline(f,ls='--',lw=1)\n",
    "    ax[2].axvline(f,ls='--',lw=1)"
   ]
  },
  {
   "cell_type": "code",
   "execution_count": null,
   "metadata": {},
   "outputs": [],
   "source": [
    "import pympedance._impedance as imp\n",
    "iobj=imp.Impedance(freq=fvec,imped=duct.get_input_impedance_at_freq(fvec))\n",
    "iobj.findPeaks()"
   ]
  },
  {
   "cell_type": "code",
   "execution_count": null,
   "metadata": {},
   "outputs": [],
   "source": []
  },
  {
   "cell_type": "code",
   "execution_count": null,
   "metadata": {},
   "outputs": [],
   "source": [
    "world = imps.AcousticWorld()\n",
    "\n",
    "l0 = 1.0\n",
    "lmid=.2\n",
    "\n",
    "rad0 = .0075\n",
    "nstep = 100\n",
    "rad_mid = (rad0*2*(xx+1)/nstep for xx in range(nstep))\n",
    "\n",
    "ducts = []\n",
    "loss=True\n",
    "\n",
    "pks=[]\n",
    "\n",
    "pl.figure()\n",
    "\n",
    "for rad_e in rad_mid:\n",
    "    duct = imps.Duct(world=world,losses=loss)\n",
    "    duct.append_element(imps.StraightDuct(length=(l0-lmid)/2,radius=rad0))\n",
    "    duct.append_element(imps.StraightDuct(length=lmid,radius=rad_e))\n",
    "    duct.append_element(imps.StraightDuct(length=(l0-lmid)/2,radius=rad0))\n",
    "    ducts.append(duct)\n",
    "    duct.set_termination(imps.PerfectOpenEnd())\n",
    "    iobj=imp.Impedance(freq=fvec,imped=duct.get_input_impedance_at_freq(fvec))\n",
    "    pk = iobj.findPeaks()\n",
    "    pks.append(pk)\n",
    "    pl.scatter(rad_e*np.ones_like(pk[0]),pk[0],s=4*np.log(pk[1]),c=pk[2],marker='o')\n"
   ]
  },
  {
   "cell_type": "code",
   "execution_count": null,
   "metadata": {},
   "outputs": [],
   "source": [
    "pk"
   ]
  },
  {
   "cell_type": "code",
   "execution_count": null,
   "metadata": {},
   "outputs": [],
   "source": []
  }
 ],
 "metadata": {
  "hide_input": false,
  "kernelspec": {
   "display_name": "unsw",
   "language": "python",
   "name": "unsw"
  },
  "language_info": {
   "codemirror_mode": {
    "name": "ipython",
    "version": 3
   },
   "file_extension": ".py",
   "mimetype": "text/x-python",
   "name": "python",
   "nbconvert_exporter": "python",
   "pygments_lexer": "ipython3"
  }
 },
 "nbformat": 4,
 "nbformat_minor": 2
}
