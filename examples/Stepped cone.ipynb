{
 "cells": [
  {
   "cell_type": "code",
   "execution_count": null,
   "metadata": {},
   "outputs": [],
   "source": [
    "import sys\n",
    "sys.path.append('..')\n",
    "import ImpedanceSynthesiser as imps\n",
    "import numpy as np\n",
    "import matplotlib.pyplot as pl\n",
    "%matplotlib notebook\n"
   ]
  },
  {
   "cell_type": "code",
   "execution_count": null,
   "metadata": {},
   "outputs": [],
   "source": [
    "figg, axg = pl.subplots(1)\n",
    "fig1, ax = pl.subplots(2,sharex=True)\n",
    "\n",
    "for nseg in [5,9]:\n",
    "    l=.5\n",
    "    #nseg=10\n",
    "    r0 = 0.005\n",
    "    rend = 0.04\n",
    "    #lcone/rend = (lcone-l) / r0\n",
    "    lcone = -l/r0 / (1/rend-1/r0)\n",
    "    lapx = lcone-l\n",
    "\n",
    "    world = imps.AcousticWorld(temp=25)\n",
    "    duct = imps.Duct(world=world)\n",
    "\n",
    "    for ii in range(nseg):\n",
    "        rseg = r0 + float(ii)/nseg*(rend-r0)\n",
    "        lseg = l/nseg\n",
    "        duct.append_element(imps.StraightDuct(length=lseg,radius=rseg))\n",
    "\n",
    "    duct.set_termination(imps.PerfectOpenEnd())\n",
    "\n",
    "    fvec = np.logspace(1,4,1000)\n",
    "    duct.plot_geometry(ax=axg)\n",
    "    \n",
    "    tf = duct.get_input_impedance_at_freq(fvec)\n",
    "    ax[0].plot(fvec,20*np.log10(np.abs(tf)))\n",
    "    ax[1].plot(fvec,(np.angle(tf)))\n",
    "\n",
    "    \n",
    "    "
   ]
  },
  {
   "cell_type": "code",
   "execution_count": null,
   "metadata": {},
   "outputs": [],
   "source": [
    "[(el.radius, el.length) for el in duct.elements]"
   ]
  },
  {
   "cell_type": "code",
   "execution_count": null,
   "metadata": {},
   "outputs": [],
   "source": [
    "from_pos = .0033\n",
    "to_pos = .41\n",
    "rev=True\n",
    "el_rev=[(n,fr,to) for n,_,fr,to in duct.iter_elements_in_interval(from_pos=from_pos, \n",
    "                                                           to_pos=to_pos, \n",
    "                                                           reverse=rev)]\n",
    "rev=False\n",
    "el_str=[(n,fr,to) for n,_,fr,to in duct.iter_elements_in_interval(from_pos=from_pos, \n",
    "                                                           to_pos=to_pos, \n",
    "                                                           reverse=rev)]\n",
    "\n",
    "zip(reversed(el_rev),el_str)"
   ]
  },
  {
   "cell_type": "code",
   "execution_count": null,
   "metadata": {},
   "outputs": [],
   "source": [
    "[(n,fr,to) for n,_,fr,to in duct.iter_elements_in_interval(from_pos=from_pos, \n",
    "                                                           to_pos=to_pos, \n",
    "                                                           reverse=False)]\n"
   ]
  },
  {
   "cell_type": "code",
   "execution_count": null,
   "metadata": {},
   "outputs": [],
   "source": [
    "[(n,fr,to) for n,_,fr,to in duct.iter_elements_in_interval(from_pos=from_pos, \n",
    "                                                           to_pos=to_pos, \n",
    "                                                           reverse=False)]\n"
   ]
  },
  {
   "cell_type": "code",
   "execution_count": null,
   "metadata": {},
   "outputs": [],
   "source": [
    "[(n,fr,to) for n,_,fr,to in duct.iter_elements_in_interval(from_pos=to_pos, \n",
    "                                                           to_pos=from_pos, \n",
    "                                                           reverse=True)]\n"
   ]
  },
  {
   "cell_type": "code",
   "execution_count": null,
   "metadata": {},
   "outputs": [],
   "source": []
  }
 ],
 "metadata": {
  "hide_input": false,
  "kernelspec": {
   "display_name": "Python 2",
   "language": "python",
   "name": "python2"
  },
  "language_info": {
   "codemirror_mode": {
    "name": "ipython",
    "version": 2
   },
   "file_extension": ".py",
   "mimetype": "text/x-python",
   "name": "python",
   "nbconvert_exporter": "python",
   "pygments_lexer": "ipython2"
  }
 },
 "nbformat": 4,
 "nbformat_minor": 2
}
