{
 "cells": [
  {
   "cell_type": "code",
   "execution_count": null,
   "metadata": {},
   "outputs": [],
   "source": [
    "import sys\n",
    "sys.path.append('..')\n",
    "import ImpedanceSynthesiser as imps\n",
    "import numpy as np\n",
    "import matplotlib.pyplot as pl\n",
    "import scipy.signal as sig\n",
    "%matplotlib notebook\n",
    "\n",
    "reload(imps)"
   ]
  },
  {
   "cell_type": "markdown",
   "metadata": {},
   "source": [
    "# Acoustic environment\n",
    "\n",
    "Creates the acoustic world containing parameters and the duct\n",
    "(an inifinite duct)"
   ]
  },
  {
   "cell_type": "code",
   "execution_count": null,
   "metadata": {},
   "outputs": [],
   "source": [
    "world = imps.AcousticWorld()\n",
    "\n",
    "l0 = 1.0\n",
    "lmid=.2\n",
    "\n",
    "rad0 = .0075\n",
    "rad_mid = .01\n",
    "\n",
    "loss=True\n",
    "\n",
    "mic_positions = [0,0.1,0.2]\n",
    "\n",
    "\n",
    "duct = imps.Duct(world=world,losses=loss)\n",
    "duct.set_termination(imps.PerfectAnechoicEnd())\n",
    "duct.append_element(imps.StraightDuct(length=(l0),radius=rad0))\n",
    "#duct.append_element(imps.StraightDuct(length=(l0-lmid)/2,radius=rad0))\n",
    "#duct.append_element(imps.StraightDuct(length=lmid,radius=rad_mid))\n",
    "#duct.append_element(imps.StraightDuct(length=(l0-lmid)/2,radius=rad0))\n",
    "\n",
    "duct.plot_geometry()\n",
    "\n",
    "for pos in mic_positions:\n",
    "    pl.axvline(pos, ls='--')"
   ]
  },
  {
   "cell_type": "markdown",
   "metadata": {},
   "source": [
    "# Check the impedance\n",
    "\n",
    "The impedance of the infinite duct should be real and constant at all frequencies"
   ]
  },
  {
   "cell_type": "code",
   "execution_count": null,
   "metadata": {},
   "outputs": [],
   "source": [
    "fvec = np.linspace(10,5000,1000)\n",
    "\n",
    "fig,ax=pl.subplots(2,sharex=True)\n",
    "\n",
    "\n",
    "for pos in mic_positions:\n",
    "    z=[]\n",
    "    for f in fvec:\n",
    "        z.append(duct.get_input_impedance_at_freq(f,from_pos=pos))\n",
    "    \n",
    "    ax[0].plot(fvec,20*np.log10(np.abs(z)))\n",
    "    ax[1].plot(fvec,np.angle(z))\n",
    "\n",
    "ax[0].axhline(20*np.log10(np.abs(duct.elements[0].get_characteristic_impedance())),\n",
    "              lw=1,ls='--',color='r')\n",
    "\n",
    "f=0\n",
    "c=duct.speed_of_sound\n"
   ]
  },
  {
   "cell_type": "markdown",
   "metadata": {},
   "source": [
    "## Get pressure ratios at microphones "
   ]
  },
  {
   "cell_type": "code",
   "execution_count": null,
   "metadata": {},
   "outputs": [],
   "source": [
    "fvec = np.linspace(10,5000,1000)\n",
    "\n",
    "\n",
    "z0=[]\n",
    "z1=[]\n",
    "z2=[]\n",
    "for f in fvec:\n",
    "    z0.append(duct.get_input_impedance_at_freq(f,from_pos=mic_positions[0]))\n",
    "    z1.append(duct.get_input_impedance_at_freq(f,from_pos=mic_positions[1]))\n",
    "    z2.append(duct.get_input_impedance_at_freq(f,from_pos=mic_positions[2]))\n",
    "\n",
    "    \n",
    "z0=np.array(z0)\n",
    "z1=np.array(z1)\n",
    "z2=np.array(z2)"
   ]
  },
  {
   "cell_type": "markdown",
   "metadata": {},
   "source": [
    "We'll impose the flow $u$ and calculate the corresponding pressure $p$\n",
    "\n",
    "* We'll plot the impedance of the calculated signals\n",
    "* We'll plot pressure ratios between the two microphones"
   ]
  },
  {
   "cell_type": "code",
   "execution_count": null,
   "metadata": {},
   "outputs": [],
   "source": [
    "u0 = np.random.rand(len(fvec))-0.5 + 1j*(np.random.rand(len(fvec))-.5)\n",
    "\n",
    "p0 = z0*u0\n",
    "\n",
    "p1=np.zeros(len(fvec),dtype='complex128')\n",
    "u1=np.zeros(len(fvec),dtype='complex128')\n",
    "p2=np.zeros(len(fvec),dtype='complex128')\n",
    "u2=np.zeros(len(fvec),dtype='complex128')\n",
    "\n",
    "tmx1_arr = []\n",
    "\n",
    "for ii,f in enumerate(fvec):\n",
    "    tmx1 = duct.transfer_mx_at_freq(freq=f, \n",
    "                                     from_pos=mic_positions[0], \n",
    "                                     to_pos=mic_positions[1])\n",
    "    tmx1_arr.append(tmx1)\n",
    "    v1 = np.dot(tmx1,[p0[ii],u0[ii]])\n",
    "    p1[ii] = v1[0]\n",
    "    u1[ii] = v1[1]\n",
    "    tmx2 = duct.transfer_mx_at_freq(freq=f, \n",
    "                                     from_pos=mic_positions[0], \n",
    "                                     to_pos=mic_positions[2])\n",
    "    v2 = np.dot(tmx2,[p0[ii],u0[ii]])\n",
    "    p2[ii] = v2[0]\n",
    "    u2[ii] = v2[1]\n",
    "\n",
    "fig,ax=pl.subplots(2,sharex=True)\n",
    "ax[0].plot(fvec,20*np.log10(np.abs(z0)))\n",
    "ax[1].plot(fvec,np.angle(z0))\n",
    "\n",
    "ax[0].plot(fvec,20*np.log10(np.abs(p0/u0)))\n",
    "ax[1].plot(fvec,np.angle(p0/u0))\n",
    "\n",
    "fig,ax=pl.subplots(2,sharex=True)\n",
    "\n",
    "ax[0].plot(fvec,np.abs(p2/p1))\n",
    "ax[0].plot(fvec,np.abs(u2/u1))\n",
    "ax[1].plot(fvec,np.angle(p2/p1))\n",
    "ax[1].plot(fvec,np.angle(u2/u1))\n"
   ]
  },
  {
   "cell_type": "markdown",
   "metadata": {},
   "source": [
    "### Mic pressures relative to duct input\n",
    "\n",
    "Check that:\n",
    "* Amplitudes mic 2 < mic 1 < duct start\n",
    "* Phase: linear phases, steeper for mic 2 than mic 1 (negative?)"
   ]
  },
  {
   "cell_type": "code",
   "execution_count": null,
   "metadata": {},
   "outputs": [],
   "source": [
    "fig,ax=pl.subplots(2,sharex=True)\n",
    "\n",
    "ax[0].plot(fvec,np.abs(p1/p0))\n",
    "ax[0].plot(fvec,np.abs(p2/p0))\n",
    "ax[1].plot(fvec,np.angle(p1/p0))\n",
    "ax[1].plot(fvec,np.angle(p2/p0))\n"
   ]
  },
  {
   "cell_type": "markdown",
   "metadata": {},
   "source": [
    "## Propagation coefficient\n",
    "\n",
    "Check propagation coefficient\n",
    "* Attenuation should be >0\n",
    "* Propagation velocity below ideal"
   ]
  },
  {
   "cell_type": "code",
   "execution_count": null,
   "metadata": {},
   "outputs": [],
   "source": [
    "fig, ax = pl.subplots(2,sharex=True)\n",
    "pc = []\n",
    "for f in fvec:\n",
    "    pc.append(duct.elements[0].get_propagation_coefficient(freq=f))\n",
    "    \n",
    "pc=np.array(pc)\n",
    "\n",
    "ax[0].plot(np.real(1j*pc))\n",
    "ax[0].set_ylabel('Attenuation coef.')\n",
    "ax[1].plot(1./np.imag(1j*pc/2/np.pi/fvec))\n",
    "ax[1].plot(duct.speed_of_sound*np.ones(len(fvec)))\n",
    "ax[1].set_ylabel('Propagation velocity')\n",
    "ax[1].set_xlabel('Frequency')\n"
   ]
  },
  {
   "cell_type": "code",
   "execution_count": null,
   "metadata": {},
   "outputs": [],
   "source": [
    "def freq_resp_to_fftfilt(respvec):\n",
    "    nfft = len(respvec)\n",
    "    fftfilt = np.zeros(nfft,dtype='complex')\n",
    "    nnyq = int(np.ceil(nfft/float(2)))\n",
    "    fftfilt[:nnyq+1] = respvec[:nnyq+1]\n",
    "    fftfilt[nnyq+1:] = np.flipud(np.conjugate(fftfilt[1:nnyq]))\n",
    "    if np.mod(nfft,2)==0:\n",
    "        fftfilt[nnyq] = np.abs(fftfilt[nnyq])\n",
    "    return fftfilt\n",
    "\n",
    "\n",
    "def fft_filter(x, filtufunc=lambda x:1, sr=1.0):\n",
    "    '''\n",
    "    Filter signal x using FFT and IFFT\n",
    "    * x input signal\n",
    "    * freq_func: function of f to use to calculate gains\n",
    "    \n",
    "    Example:\n",
    "    \n",
    "    y = FFTfilter(x, lambda x: 1j*2*np.pi*x)\n",
    "    \n",
    "    applies a derivation filter\n",
    "    '''\n",
    "    \n",
    "    xf = np.fft.fft(x)\n",
    "    nyq = len(xf)/2\n",
    "    \n",
    "    fvec = np.linspace(0.1,float(sr),num=len(xf))\n",
    "    #filtufunc = np.frompyfunc(freq_func)\n",
    "    ffilter = filtufunc(fvec).astype('complex')\n",
    "    ffilter = freq_resp_to_fftfilt(ffilter)\n",
    "        \n",
    "    xf_filt = xf*ffilter\n",
    "    return np.fft.ifft(xf_filt) \n"
   ]
  },
  {
   "cell_type": "markdown",
   "metadata": {},
   "source": [
    "## Input and mic signals"
   ]
  },
  {
   "cell_type": "code",
   "execution_count": null,
   "metadata": {},
   "outputs": [],
   "source": [
    "t = 1 # sec\n",
    "sr = 44100\n",
    "\n",
    "u0_sig = np.random.rand(int(t*sr))-0.5\n",
    "\n",
    "zfunc = np.frompyfunc(duct.get_input_impedance_at_freq,1,1)\n",
    "p0_sig = fft_filter(u0_sig, zfunc,sr=sr)"
   ]
  },
  {
   "cell_type": "code",
   "execution_count": null,
   "metadata": {},
   "outputs": [],
   "source": [
    "def tfe_sig(y, x, *args, **kwargs):\n",
    "    \"\"\"estimate transfer function from x to y,\n",
    "       see csd for calling convention\"\"\"\n",
    "    fxy, sxy = sig.csd(y, x, *args, **kwargs)\n",
    "    fxx, sxx = sig.csd(x, x, *args, **kwargs)\n",
    "    return np.conj(sxy) / sxx, fxx\n"
   ]
  },
  {
   "cell_type": "code",
   "execution_count": null,
   "metadata": {},
   "outputs": [],
   "source": [
    "u0_sig.dtype"
   ]
  },
  {
   "cell_type": "code",
   "execution_count": null,
   "metadata": {},
   "outputs": [],
   "source": [
    "fig,ax=pl.subplots(2,sharex=True)\n",
    "tf,ftf = tfe_sig(np.real(p0_sig),u0_sig,fs=sr,nperseg=1024)\n",
    "ax[0].plot(ftf,np.abs(tf))\n",
    "ax[1].plot(ftf,np.angle(tf))"
   ]
  },
  {
   "cell_type": "code",
   "execution_count": null,
   "metadata": {},
   "outputs": [],
   "source": [
    "fvecs=np.linspace(0.1,sr,len(u0_sig))\n",
    "ff=zfunc(fvecs).astype('complex')\n",
    "freq_resp_to_fftfilt(ff)"
   ]
  },
  {
   "cell_type": "code",
   "execution_count": null,
   "metadata": {},
   "outputs": [],
   "source": [
    "pf = dict()\n",
    "uf = dict()\n",
    "\n",
    "psig = dict()\n",
    "usig = dict()\n",
    "\n",
    "pos = 0.0\n",
    "usig[pos] = u0_sig\n",
    "uf[pos] = np.fft.fft(usig[pos])\n",
    "ffilter = []\n",
    "for f in fvecs:\n",
    "    ffilter.append(duct.get_input_impedance_at_freq(f))\n",
    "ffilter = freq_resp_to_fftfilt(np.array(ffilter))\n",
    "    \n",
    "\n",
    "pf[pos] = uf[pos]*ffilter\n",
    "psig[pos] = np.real(fft_filter(u0_sig, zfunc,sr=sr))\n",
    "\n",
    "for pos in mic_positions:\n",
    "    if pos == 0.0:\n",
    "        pass\n",
    "    else:\n",
    "        tmf = []\n",
    "        for f in fvecs:\n",
    "            tmf.append(duct.transfer_mx_at_freq(f))\n",
    "        tmf = (np.array(tmf))\n",
    "        \n",
    "        pfv = []\n",
    "        ufv = []\n",
    "        \n",
    "        for fidx in xrange(tmf.shape[0]):\n",
    "            this_pf, this_uf = np.dot(duct.transfer_mx_at_freq(fvecs[fidx],\n",
    "                                                               from_pos=0.0,\n",
    "                                                               to_pos=pos),\n",
    "                                      np.array([pf[0.0][fidx], uf[0.0][fidx]]))\n",
    "            pfv.append(this_pf)\n",
    "            ufv.append(this_uf)\n",
    "            \n",
    "        pf[pos]=np.array(pfv)\n",
    "        uf[pos]=np.array(ufv)\n",
    "        psig[pos] = np.real(np.fft.ifft(freq_resp_to_fftfilt(pf[pos])))\n",
    "        usig[pos] = np.real(np.fft.ifft(freq_resp_to_fftfilt(uf[pos])))\n",
    "        \n"
   ]
  },
  {
   "cell_type": "code",
   "execution_count": null,
   "metadata": {},
   "outputs": [],
   "source": [
    "tf,ftf = tfe_sig(np.real(psig[0.2]),np.real(psig[0.1]),fs=sr,nperseg=1024)\n",
    "_,coh = sig.coherence(np.real(psig[0.2]),np.real(psig[0.1]),fs=sr,nperseg=1024)\n",
    "fig,ax=pl.subplots(3,sharex=True)\n",
    "\n",
    "# calibration mode\n",
    "\n",
    "\n",
    "ax[0].plot(ftf,np.abs(tf))\n",
    "ax[0].plot(fvecs,np.abs(pf[0.2]/pf[0.1]))\n",
    "ax[0].plot(fvec,np.abs(p2/p1))\n",
    "ax[1].plot(ftf,np.angle(tf))\n",
    "ax[1].plot(fvecs,np.angle(pf[0.2]/pf[0.1]))\n",
    "ax[1].plot(fvec,np.angle(p2/p1))\n",
    "ax[2].plot(ftf,coh)\n"
   ]
  },
  {
   "cell_type": "code",
   "execution_count": null,
   "metadata": {},
   "outputs": [],
   "source": [
    "pf[0.2]"
   ]
  },
  {
   "cell_type": "code",
   "execution_count": null,
   "metadata": {},
   "outputs": [],
   "source": [
    "ppf = pf[0.1]\n",
    "print(ppf[0],ppf[len(ppf)/2-1],ppf[len(ppf)/2],ppf[len(ppf)/2+1],ppf[-1])"
   ]
  },
  {
   "cell_type": "code",
   "execution_count": null,
   "metadata": {},
   "outputs": [],
   "source": [
    "pl.figure()\n",
    "i0=1024\n",
    "n=1024\n",
    "pl.plot(psig[0.1][i0:i0+n])\n",
    "pl.plot(psig[0.2][i0:i0+n])\n",
    "#lags = np.arange(-n+1,n)/float(sr)\n",
    "#pl.plot(lags,np.correlate(psig[0.1][i0:i0+n],psig[0.2][i0:i0+n],'full'))"
   ]
  },
  {
   "cell_type": "code",
   "execution_count": null,
   "metadata": {},
   "outputs": [],
   "source": []
  }
 ],
 "metadata": {
  "hide_input": false,
  "kernelspec": {
   "display_name": "Python 2",
   "language": "python",
   "name": "python2"
  },
  "language_info": {
   "codemirror_mode": {
    "name": "ipython",
    "version": 2
   },
   "file_extension": ".py",
   "mimetype": "text/x-python",
   "name": "python",
   "nbconvert_exporter": "python",
   "pygments_lexer": "ipython2"
  }
 },
 "nbformat": 4,
 "nbformat_minor": 2
}
